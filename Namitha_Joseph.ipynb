{
  "nbformat": 4,
  "nbformat_minor": 0,
  "metadata": {
    "colab": {
      "name": "Namitha Joseph.ipynb",
      "provenance": [],
      "collapsed_sections": []
    },
    "kernelspec": {
      "name": "python3",
      "display_name": "Python 3"
    },
    "language_info": {
      "name": "python"
    }
  },
  "cells": [
    {
      "cell_type": "code",
      "metadata": {
        "colab": {
          "base_uri": "https://localhost:8080/"
        },
        "id": "0f6I5rFO3x8_",
        "outputId": "721b020e-a1ee-4778-863b-a6c60fd9f469"
      },
      "source": [
        "import requests\n",
        "#import os\n",
        "from datetime import datetime\n",
        "\n",
        "api_key = '09cf11174133b44bb795a528e52f1347'\n",
        "location = input(\"Enter the city name: \")\n",
        "\n",
        "complete_api_link = \"https://api.openweathermap.org/data/2.5/weather?q=\"+location+\"&appid=\"+api_key\n",
        "api_link = requests.get(complete_api_link)\n",
        "api_data = api_link.json()\n",
        "\n",
        "#create variables to store and display data\n",
        "temp_city = ((api_data['main']['temp']) - 273.15)\n",
        "weather_desc = api_data['weather'][0]['description']\n",
        "hmdt = api_data['main']['humidity']\n",
        "wind_spd = api_data['wind']['speed']\n",
        "date_time = datetime.now().strftime(\"%d %b %Y | %I:%M:%S %p\")\n",
        "\n",
        "print (\"-------------------------------------------------------------\")\n",
        "print (\"Weather Stats for - {}  || {}\".format(location.upper(), date_time))\n",
        "print (\"-------------------------------------------------------------\")\n",
        "\n",
        "print (\"Current temperature is: {:.2f} deg C\".format(temp_city))\n",
        "print (\"Current weather desc  :\",weather_desc)\n",
        "print (\"Current Humidity      :\",hmdt, '%')\n",
        "print (\"Current wind speed    :\",wind_spd ,'kmph')\n",
        "\n",
        "line=\"Weather Stats for -\"+str(location.upper())+\"  || \"+str(date_time)+\"\\nCurrent temperature is: \"+str(temp_city)+\"\\nCurrent weather desc  :\"+str(weather_desc)+\"\\nCurrent Humidity      :\"+str(hmdt)+\"% \\nCurrent wind speed    :\"+str(wind_spd)+\"kmph\\n\\n\"\n",
        "with open(\"data.txt\", 'a') as file1:\n",
        "    file1.write(line)"
      ],
      "execution_count": 2,
      "outputs": [
        {
          "output_type": "stream",
          "text": [
            "Enter the city name: Kochi\n",
            "-------------------------------------------------------------\n",
            "Weather Stats for - KOCHI  || 24 Jun 2021 | 01:29:37 PM\n",
            "-------------------------------------------------------------\n",
            "Current temperature is: 28.99 deg C\n",
            "Current weather desc  : broken clouds\n",
            "Current Humidity      : 81 %\n",
            "Current wind speed    : 4.15 kmph\n"
          ],
          "name": "stdout"
        }
      ]
    }
  ]
}